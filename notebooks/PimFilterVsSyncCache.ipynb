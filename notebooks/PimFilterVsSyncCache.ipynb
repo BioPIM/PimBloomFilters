{
 "cells": [
  {
   "cell_type": "code",
   "execution_count": 1,
   "id": "184faed9",
   "metadata": {},
   "outputs": [],
   "source": [
    "cd /home/fdemoor/org.pim.bloomfilters/build/benchmarks"
   ]
  },
  {
   "cell_type": "markdown",
   "id": "93b1f207",
   "metadata": {},
   "source": [
    "## Pim filter"
   ]
  },
  {
   "cell_type": "code",
   "execution_count": 6,
   "id": "35675c39",
   "metadata": {},
   "outputs": [
    {
     "name": "stdout",
     "output_type": "stream",
     "text": [
      "> Creating filter...\n",
      "Took 0.153282 seconds\n",
      "> Inserting many items...\n",
      "Took 0.188852 seconds\n",
      "> Computing weight...\n",
      "Took 0.0215538 seconds\n",
      "Weight is 62499771\n",
      "> Querying all inserted items in a random order...\n",
      "Took 0.721167 seconds\n",
      "> The end.\n"
     ]
    }
   ],
   "source": [
    "./benchmark1 -k 8 -m 30 -n 10000000 -r 6"
   ]
  },
  {
   "cell_type": "code",
   "execution_count": 7,
   "id": "86d7dee7",
   "metadata": {},
   "outputs": [
    {
     "name": "stdout",
     "output_type": "stream",
     "text": [
      "> Creating filter...\n",
      "Took 0.125962 seconds\n",
      "> Inserting many items...\n",
      "Took 1.56823 seconds\n",
      "> Computing weight...\n",
      "Took 0.0215893 seconds\n",
      "Weight is 180261005\n",
      "> Querying all inserted items in a random order...\n",
      "Took 4.46947 seconds\n",
      "> The end.\n"
     ]
    }
   ],
   "source": [
    "./benchmark1 -k 8 -m 30 -n 100000000 -r 6"
   ]
  },
  {
   "cell_type": "markdown",
   "id": "101745d3",
   "metadata": {},
   "source": [
    "## Sync Cache filter"
   ]
  },
  {
   "cell_type": "code",
   "execution_count": 4,
   "id": "8709e722",
   "metadata": {},
   "outputs": [
    {
     "name": "stdout",
     "output_type": "stream",
     "text": [
      "> Creating filter...\n",
      "Took 0.239955 seconds\n",
      "> Inserting many items...\n",
      "Took 0.250204 seconds\n",
      "> Computing weight...\n",
      "Took 3.64952 seconds\n",
      "Weight is 72899555\n",
      "> Querying all inserted items in a random order...\n",
      "Took 0.215781 seconds\n",
      "> The end.\n"
     ]
    }
   ],
   "source": [
    "./benchmark2 -k 8 -m 30 -n 10000000"
   ]
  },
  {
   "cell_type": "code",
   "execution_count": 5,
   "id": "f2ee9438",
   "metadata": {},
   "outputs": [
    {
     "name": "stdout",
     "output_type": "stream",
     "text": [
      "> Creating filter...\n",
      "Took 0.224162 seconds\n",
      "> Inserting many items...\n",
      "Took 1.5572 seconds\n",
      "> Computing weight...\n",
      "Took 3.60859 seconds\n",
      "Weight is 542195000\n",
      "> Querying all inserted items in a random order...\n",
      "Took 2.02705 seconds\n",
      "> The end.\n"
     ]
    }
   ],
   "source": [
    "./benchmark2 -k 8 -m 30 -n 100000000"
   ]
  },
  {
   "cell_type": "code",
   "execution_count": null,
   "id": "68341309",
   "metadata": {},
   "outputs": [],
   "source": []
  }
 ],
 "metadata": {
  "kernelspec": {
   "display_name": "Bash",
   "language": "bash",
   "name": "bash"
  },
  "language_info": {
   "codemirror_mode": "shell",
   "file_extension": ".sh",
   "mimetype": "text/x-sh",
   "name": "bash"
  }
 },
 "nbformat": 4,
 "nbformat_minor": 5
}
