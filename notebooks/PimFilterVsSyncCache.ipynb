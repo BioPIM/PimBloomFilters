{
 "cells": [
  {
   "cell_type": "code",
   "execution_count": 1,
   "id": "184faed9",
   "metadata": {},
   "outputs": [],
   "source": [
    "cd /home/fdemoor/org.pim.bloomfilters/build/benchmarks"
   ]
  },
  {
   "cell_type": "markdown",
   "id": "93b1f207",
   "metadata": {},
   "source": [
    "## Pim filter"
   ]
  },
  {
   "cell_type": "code",
   "execution_count": 13,
   "id": "35675c39",
   "metadata": {},
   "outputs": [
    {
     "name": "stdout",
     "output_type": "stream",
     "text": [
      "> Creating filter...\n",
      "Took 0.180904 seconds\n",
      "> Inserting many items...\n",
      "Took 0.338185 seconds\n",
      "> Computing weight...\n",
      "Took 0.00946019 seconds\n",
      "Weight is 65150700\n",
      "> Querying all inserted items in a random order...\n",
      "Took 0.627043 seconds\n",
      "> The end.\n"
     ]
    }
   ],
   "source": [
    "./benchmark1 -k 8 -m 30 -n 10000000 -r 8"
   ]
  },
  {
   "cell_type": "code",
   "execution_count": 14,
   "id": "86d7dee7",
   "metadata": {},
   "outputs": [
    {
     "name": "stdout",
     "output_type": "stream",
     "text": [
      "> Creating filter...\n",
      "Took 0.206415 seconds\n",
      "> Inserting many items...\n",
      "Took 1.88245 seconds\n",
      "> Computing weight...\n",
      "Took 0.00955363 seconds\n",
      "Weight is 217847741\n",
      "> Querying all inserted items in a random order...\n",
      "Took 3.9689 seconds\n",
      "> The end.\n"
     ]
    }
   ],
   "source": [
    "./benchmark1 -k 8 -m 30 -n 100000000 -r 8"
   ]
  },
  {
   "cell_type": "markdown",
   "id": "101745d3",
   "metadata": {},
   "source": [
    "## Sync Cache filter"
   ]
  },
  {
   "cell_type": "code",
   "execution_count": 6,
   "id": "8709e722",
   "metadata": {},
   "outputs": [
    {
     "name": "stdout",
     "output_type": "stream",
     "text": [
      "> Creating filter...\n",
      "Took 0.540567 seconds\n",
      "> Inserting many items...\n",
      "Took 0.232505 seconds\n",
      "> Computing weight...\n",
      "Took 3.69887 seconds\n",
      "Weight is 72899555\n",
      "> Querying all inserted items in a random order...\n",
      "Took 0.259743 seconds\n",
      "> The end.\n"
     ]
    }
   ],
   "source": [
    "./benchmark2 -k 8 -m 30 -n 10000000"
   ]
  },
  {
   "cell_type": "code",
   "execution_count": 7,
   "id": "f2ee9438",
   "metadata": {},
   "outputs": [
    {
     "name": "stdout",
     "output_type": "stream",
     "text": [
      "> Creating filter...\n",
      "Took 0.532724 seconds\n",
      "> Inserting many items...\n",
      "Took 1.61411 seconds\n",
      "> Computing weight...\n",
      "Took 3.68677 seconds\n",
      "Weight is 542195000\n",
      "> Querying all inserted items in a random order...\n",
      "Took 2.38512 seconds\n",
      "> The end.\n"
     ]
    }
   ],
   "source": [
    "./benchmark2 -k 8 -m 30 -n 100000000"
   ]
  },
  {
   "cell_type": "code",
   "execution_count": null,
   "id": "68341309",
   "metadata": {},
   "outputs": [],
   "source": []
  }
 ],
 "metadata": {
  "kernelspec": {
   "display_name": "Bash",
   "language": "bash",
   "name": "bash"
  },
  "language_info": {
   "codemirror_mode": "shell",
   "file_extension": ".sh",
   "mimetype": "text/x-sh",
   "name": "bash"
  }
 },
 "nbformat": 4,
 "nbformat_minor": 5
}
